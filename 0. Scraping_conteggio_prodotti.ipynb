{
 "cells": [
  {
   "cell_type": "code",
   "execution_count": 3,
   "id": "c0a4856e",
   "metadata": {},
   "outputs": [
    {
     "name": "stdout",
     "output_type": "stream",
     "text": [
      "C:\\Users\\sophi\\OneDrive\\Desktop\\MASTER\\chromedriver_win32\\chromedriver\n"
     ]
    },
    {
     "name": "stderr",
     "output_type": "stream",
     "text": [
      "C:\\Users\\sophi\\AppData\\Local\\Temp/ipykernel_11248/1384411023.py:27: DeprecationWarning: use options instead of chrome_options\n",
      "  wd = webdriver.Chrome(path_chromedr,chrome_options=chrome_options)\n"
     ]
    },
    {
     "name": "stdout",
     "output_type": "stream",
     "text": [
      "CDwindow-B00B73A7F7AB57104A1E9842BDB8418C\n"
     ]
    }
   ],
   "source": [
    "\n",
    "\n",
    "path_ref = r\"C:\\Users\\sophi\\OneDrive\\Desktop\\MASTER\\3. Modulo Big Data and Analytics (Pelucchi-Vaccarino)\\1. Big Data\\Codice\\saicosatispalmi\"\n",
    "path_chromedr = r'C:\\Users\\sophi\\OneDrive\\Desktop\\MASTER\\chromedriver_win32\\chromedriver'  \n",
    "url_saicosatispalmi = r'http://forum.saicosatispalmi.org/forum/viewtopic.php?t=9129'\n",
    "\n",
    "from os import scandir\n",
    "from ast import Index\n",
    "import sys\n",
    "sys.path.insert(0,path_chromedr)\n",
    "from selenium import webdriver\n",
    "from tqdm import tqdm\n",
    "import pprint as pp\n",
    "import pandas as pd\n",
    "import time\n",
    "import pymongo\n",
    "import json\n",
    "import csv \n",
    "from datetime import datetime\n",
    "\n",
    "chrome_options = webdriver.ChromeOptions()\n",
    "chrome_options.add_argument('excludeSwitches')\n",
    "chrome_options.add_argument('--no-sandbox')\n",
    "chrome_options.add_argument('--disable-dev-shm-usage')\n",
    "chrome_options.add_argument(\"user-agent=Mozilla/5.0 (Macintosh; Intel Mac OS X 10_15_7) AppleWebKit/537.36 (KHTML, like Gecko) Chrome/90.0.4430.212 Safari/537.36\")\n",
    "\n",
    "print(sys.path[0])\n",
    "\n",
    "wd = webdriver.Chrome(path_chromedr,chrome_options=chrome_options)\n",
    "\n",
    "wd.get(url_saicosatispalmi)\n",
    "main_window = wd.current_window_handle\n",
    "print(main_window)\n"
   ]
  },
  {
   "cell_type": "code",
   "execution_count": 4,
   "id": "601e64bf",
   "metadata": {},
   "outputs": [
    {
     "name": "stdout",
     "output_type": "stream",
     "text": [
      "INIZIO CONTEGGIO: 2021-09-05 09:36:31.931291\n"
     ]
    },
    {
     "name": "stderr",
     "output_type": "stream",
     "text": [
      "0it [00:00, ?it/s]"
     ]
    },
    {
     "name": "stdout",
     "output_type": "stream",
     "text": [
      "ciclo lettere: 1 di 26, lettera: A\n"
     ]
    },
    {
     "name": "stderr",
     "output_type": "stream",
     "text": [
      "C:\\Users\\sophi\\AppData\\Local\\Temp/ipykernel_11248/4073444123.py:25: DeprecationWarning: use options instead of chrome_options\n",
      "  wd = webdriver.Chrome(path_chromedr,chrome_options=chrome_options)\n"
     ]
    },
    {
     "name": "stdout",
     "output_type": "stream",
     "text": [
      "fino a lettera: A, num prodotti: 1733\n"
     ]
    },
    {
     "name": "stderr",
     "output_type": "stream",
     "text": [
      "1it [00:38, 38.47s/it]"
     ]
    },
    {
     "name": "stdout",
     "output_type": "stream",
     "text": [
      "ciclo lettere: 2 di 26, lettera: B\n",
      "fino a lettera: B, num prodotti: 3911\n"
     ]
    },
    {
     "name": "stderr",
     "output_type": "stream",
     "text": [
      "2it [01:36, 50.20s/it]"
     ]
    },
    {
     "name": "stdout",
     "output_type": "stream",
     "text": [
      "ciclo lettere: 3 di 26, lettera: C\n",
      "fino a lettera: C, num prodotti: 5310\n"
     ]
    },
    {
     "name": "stderr",
     "output_type": "stream",
     "text": [
      "3it [02:10, 42.48s/it]"
     ]
    },
    {
     "name": "stdout",
     "output_type": "stream",
     "text": [
      "ciclo lettere: 4 di 26, lettera: D\n",
      "fino a lettera: D, num prodotti: 6389\n"
     ]
    },
    {
     "name": "stderr",
     "output_type": "stream",
     "text": [
      "4it [02:34, 35.40s/it]"
     ]
    },
    {
     "name": "stdout",
     "output_type": "stream",
     "text": [
      "ciclo lettere: 5 di 26, lettera: E\n",
      "fino a lettera: E, num prodotti: 7574\n"
     ]
    },
    {
     "name": "stderr",
     "output_type": "stream",
     "text": [
      "5it [03:01, 32.27s/it]"
     ]
    },
    {
     "name": "stdout",
     "output_type": "stream",
     "text": [
      "ciclo lettere: 6 di 26, lettera: F\n",
      "fino a lettera: F, num prodotti: 8306\n"
     ]
    },
    {
     "name": "stderr",
     "output_type": "stream",
     "text": [
      "6it [03:18, 27.18s/it]"
     ]
    },
    {
     "name": "stdout",
     "output_type": "stream",
     "text": [
      "ciclo lettere: 7 di 26, lettera: G\n",
      "fino a lettera: G, num prodotti: 8979\n"
     ]
    },
    {
     "name": "stderr",
     "output_type": "stream",
     "text": [
      "7it [03:35, 23.76s/it]"
     ]
    },
    {
     "name": "stdout",
     "output_type": "stream",
     "text": [
      "ciclo lettere: 8 di 26, lettera: H\n",
      "fino a lettera: H, num prodotti: 9503\n"
     ]
    },
    {
     "name": "stderr",
     "output_type": "stream",
     "text": [
      "8it [03:48, 20.27s/it]"
     ]
    },
    {
     "name": "stdout",
     "output_type": "stream",
     "text": [
      "ciclo lettere: 9 di 26, lettera: I\n",
      "fino a lettera: I, num prodotti: 9963\n"
     ]
    },
    {
     "name": "stderr",
     "output_type": "stream",
     "text": [
      "9it [03:59, 17.53s/it]"
     ]
    },
    {
     "name": "stdout",
     "output_type": "stream",
     "text": [
      "ciclo lettere: 10 di 26, lettera: J\n",
      "fino a lettera: J, num prodotti: 10102\n"
     ]
    },
    {
     "name": "stderr",
     "output_type": "stream",
     "text": [
      "10it [04:06, 14.22s/it]"
     ]
    },
    {
     "name": "stdout",
     "output_type": "stream",
     "text": [
      "ciclo lettere: 11 di 26, lettera: K\n",
      "fino a lettera: K, num prodotti: 10558\n"
     ]
    },
    {
     "name": "stderr",
     "output_type": "stream",
     "text": [
      "11it [04:18, 13.43s/it]"
     ]
    },
    {
     "name": "stdout",
     "output_type": "stream",
     "text": [
      "ciclo lettere: 12 di 26, lettera: L\n",
      "fino a lettera: L, num prodotti: 12724\n"
     ]
    },
    {
     "name": "stderr",
     "output_type": "stream",
     "text": [
      "12it [05:10, 25.20s/it]"
     ]
    },
    {
     "name": "stdout",
     "output_type": "stream",
     "text": [
      "ciclo lettere: 13 di 26, lettera: M\n",
      "fino a lettera: M, num prodotti: 13702\n"
     ]
    },
    {
     "name": "stderr",
     "output_type": "stream",
     "text": [
      "13it [05:31, 23.95s/it]"
     ]
    },
    {
     "name": "stdout",
     "output_type": "stream",
     "text": [
      "ciclo lettere: 14 di 26, lettera: N\n",
      "fino a lettera: N, num prodotti: 15252\n"
     ]
    },
    {
     "name": "stderr",
     "output_type": "stream",
     "text": [
      "14it [06:04, 26.76s/it]"
     ]
    },
    {
     "name": "stdout",
     "output_type": "stream",
     "text": [
      "ciclo lettere: 15 di 26, lettera: O\n",
      "fino a lettera: O, num prodotti: 15729\n"
     ]
    },
    {
     "name": "stderr",
     "output_type": "stream",
     "text": [
      "15it [06:16, 22.24s/it]"
     ]
    },
    {
     "name": "stdout",
     "output_type": "stream",
     "text": [
      "ciclo lettere: 16 di 26, lettera: P\n",
      "fino a lettera: P, num prodotti: 16657\n"
     ]
    },
    {
     "name": "stderr",
     "output_type": "stream",
     "text": [
      "16it [06:37, 21.94s/it]"
     ]
    },
    {
     "name": "stdout",
     "output_type": "stream",
     "text": [
      "ciclo lettere: 17 di 26, lettera: Q\n",
      "fino a lettera: Q, num prodotti: 16699\n"
     ]
    },
    {
     "name": "stderr",
     "output_type": "stream",
     "text": [
      "17it [06:42, 16.76s/it]"
     ]
    },
    {
     "name": "stdout",
     "output_type": "stream",
     "text": [
      "ciclo lettere: 18 di 26, lettera: R\n",
      "fino a lettera: R, num prodotti: 16997\n"
     ]
    },
    {
     "name": "stderr",
     "output_type": "stream",
     "text": [
      "18it [06:50, 14.26s/it]"
     ]
    },
    {
     "name": "stdout",
     "output_type": "stream",
     "text": [
      "ciclo lettere: 19 di 26, lettera: S\n",
      "fino a lettera: S, num prodotti: 18150\n"
     ]
    },
    {
     "name": "stderr",
     "output_type": "stream",
     "text": [
      "19it [07:18, 18.35s/it]"
     ]
    },
    {
     "name": "stdout",
     "output_type": "stream",
     "text": [
      "ciclo lettere: 20 di 26, lettera: T\n",
      "fino a lettera: T, num prodotti: 18507\n"
     ]
    },
    {
     "name": "stderr",
     "output_type": "stream",
     "text": [
      "20it [07:28, 15.85s/it]"
     ]
    },
    {
     "name": "stdout",
     "output_type": "stream",
     "text": [
      "ciclo lettere: 21 di 26, lettera: U\n",
      "fino a lettera: U, num prodotti: 18582\n"
     ]
    },
    {
     "name": "stderr",
     "output_type": "stream",
     "text": [
      "21it [07:34, 12.76s/it]"
     ]
    },
    {
     "name": "stdout",
     "output_type": "stream",
     "text": [
      "ciclo lettere: 22 di 26, lettera: V\n",
      "fino a lettera: V, num prodotti: 19035\n"
     ]
    },
    {
     "name": "stderr",
     "output_type": "stream",
     "text": [
      "22it [07:52, 14.26s/it]"
     ]
    },
    {
     "name": "stdout",
     "output_type": "stream",
     "text": [
      "ciclo lettere: 23 di 26, lettera: W\n",
      "fino a lettera: W, num prodotti: 19252\n"
     ]
    },
    {
     "name": "stderr",
     "output_type": "stream",
     "text": [
      "23it [08:02, 13.15s/it]"
     ]
    },
    {
     "name": "stdout",
     "output_type": "stream",
     "text": [
      "ciclo lettere: 24 di 26, lettera: X\n",
      "fino a lettera: X, num prodotti: 19260\n"
     ]
    },
    {
     "name": "stderr",
     "output_type": "stream",
     "text": [
      "24it [08:06, 10.42s/it]"
     ]
    },
    {
     "name": "stdout",
     "output_type": "stream",
     "text": [
      "ciclo lettere: 25 di 26, lettera: Y\n",
      "fino a lettera: Y, num prodotti: 19551\n"
     ]
    },
    {
     "name": "stderr",
     "output_type": "stream",
     "text": [
      "25it [08:14,  9.77s/it]"
     ]
    },
    {
     "name": "stdout",
     "output_type": "stream",
     "text": [
      "ciclo lettere: 26 di 26, lettera: Z\n",
      "fino a lettera: Z, num prodotti: 19632\n"
     ]
    },
    {
     "name": "stderr",
     "output_type": "stream",
     "text": [
      "26it [08:20, 19.23s/it]"
     ]
    },
    {
     "name": "stdout",
     "output_type": "stream",
     "text": [
      "FINE CONTEGGIO:2021-09-05 09:44:52.041994 - DURATA : 0:08:20.110703\n",
      "totale prodotti: 19632\n"
     ]
    },
    {
     "name": "stderr",
     "output_type": "stream",
     "text": [
      "\n"
     ]
    }
   ],
   "source": [
    "\n",
    "#cerco per classe a postlink (link iniziale collegato a ciascuna lettera dell'alfabeto)\n",
    "iniziali_cosmetici = wd.find_elements_by_css_selector(\"span > span > span > a.postlink\")\n",
    "\n",
    "lettere = []\n",
    "for iniziale in iniziali_cosmetici:\n",
    "    lettera = iniziale.text\n",
    "    link    = iniziale.get_attribute('href')\n",
    "\n",
    "    iniziale_dict = {\n",
    "        'lettera' : lettera,\n",
    "        'link'    : link\n",
    "    }\n",
    "    lettere.append(iniziale_dict)\n",
    "\n",
    "lista_prodotti_tot= []\n",
    "\n",
    "start = datetime.now()\n",
    "print(f'INIZIO CONTEGGIO: {start}')\n",
    "#1. CICLO SULLE LETTERE\n",
    "for ind, elemento in tqdm(enumerate(iniziali_cosmetici)):\n",
    "    lettera = iniziali_cosmetici[ind].text\n",
    "    \n",
    "    print(f'ciclo lettere: {ind+1} di {len(lettere)}, lettera: {lettera}')\n",
    "\n",
    "    wd = webdriver.Chrome(path_chromedr,chrome_options=chrome_options)\n",
    "    with wd as wd:\n",
    "        url_lettera=elemento.get_attribute(\"href\")    \n",
    "        wd.get(url_lettera)  \n",
    "        lista_prodotti = wd.find_elements_by_css_selector(\"div > div.postbody > div.content > a\")\n",
    "\n",
    "        #2. CICLO SUI PRODOTTI DI CIASCUNA LETTERA\n",
    "        for i, prod in enumerate(lista_prodotti):      \n",
    "            prodotto = lista_prodotti[i].text\n",
    "            lista_prodotti_tot.append(prodotto)\n",
    "\n",
    "        print(f'fino a lettera: {lettera}, num prodotti: {len(lista_prodotti_tot)}')\n",
    "            \n",
    "fine = datetime.now()\n",
    "\n",
    "print(f'FINE CONTEGGIO:{fine} - DURATA : {fine-start}')\n",
    "print(f'totale prodotti: {len(lista_prodotti_tot)}')    "
   ]
  },
  {
   "cell_type": "code",
   "execution_count": null,
   "id": "102cdc22",
   "metadata": {},
   "outputs": [],
   "source": []
  }
 ],
 "metadata": {
  "kernelspec": {
   "display_name": "Python 3 (ipykernel)",
   "language": "python",
   "name": "python3"
  },
  "language_info": {
   "codemirror_mode": {
    "name": "ipython",
    "version": 3
   },
   "file_extension": ".py",
   "mimetype": "text/x-python",
   "name": "python",
   "nbconvert_exporter": "python",
   "pygments_lexer": "ipython3",
   "version": "3.9.6"
  }
 },
 "nbformat": 4,
 "nbformat_minor": 5
}
